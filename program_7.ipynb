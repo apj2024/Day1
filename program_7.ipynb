{
  "nbformat": 4,
  "nbformat_minor": 0,
  "metadata": {
    "colab": {
      "provenance": [],
      "authorship_tag": "ABX9TyNECJIhFd2juQJsnz8LlfBR",
      "include_colab_link": true
    },
    "kernelspec": {
      "name": "python3",
      "display_name": "Python 3"
    },
    "language_info": {
      "name": "python"
    }
  },
  "cells": [
    {
      "cell_type": "markdown",
      "metadata": {
        "id": "view-in-github",
        "colab_type": "text"
      },
      "source": [
        "<a href=\"https://colab.research.google.com/github/apj2024/Day1/blob/main/program_7.ipynb\" target=\"_parent\"><img src=\"https://colab.research.google.com/assets/colab-badge.svg\" alt=\"Open In Colab\"/></a>"
      ]
    },
    {
      "cell_type": "code",
      "execution_count": 30,
      "metadata": {
        "colab": {
          "base_uri": "https://localhost:8080/"
        },
        "id": "iQoDrTgkqsYU",
        "outputId": "42711f86-0ca6-4fe5-dc9f-fc1ff61cfe6f"
      },
      "outputs": [
        {
          "output_type": "stream",
          "name": "stdout",
          "text": [
            "Ascending: [3, 14, 18, 21, 56, 67, 92]\n",
            "Descending: [92, 67, 56, 21, 18, 14, 3]\n",
            "Unsorted: [21, 3, 56, 14, 18, 67, 92]\n",
            "Error: Invalid order parameter\n",
            "With invalid order: [21, 3, 56, 14, 18, 67, 92]\n"
          ]
        }
      ],
      "source": [
        "def brute_force(numbers, order='asc'):\n",
        "    if order not in ['asc', 'desc', 'none']:\n",
        "        print(\"Error: Invalid order parameter\")\n",
        "        return numbers\n",
        "\n",
        "    if order == 'none':\n",
        "        return numbers\n",
        "\n",
        "    for i in range(len(numbers)):\n",
        "        for j in range(i + 1, len(numbers)):\n",
        "            if order == 'asc' and numbers[i] > numbers[j]:\n",
        "                numbers[i], numbers[j] = numbers[j], numbers[i]\n",
        "            elif order == 'desc' and numbers[i] < numbers[j]:\n",
        "                numbers[i], numbers[j] = numbers[j], numbers[i]\n",
        "\n",
        "    return numbers\n",
        "\n",
        "numbers = [21, 3, 56, 14, 18, 67, 92]\n",
        "\n",
        "sorted_asc = brute_force(numbers.copy(), 'asc')\n",
        "print(\"Ascending:\", sorted_asc)\n",
        "\n",
        "sorted_desc = brute_force(numbers.copy(), 'desc')\n",
        "print(\"Descending:\", sorted_desc)\n",
        "\n",
        "sorted_none = brute_force(numbers.copy(), 'none')\n",
        "print(\"Unsorted:\", sorted_none)\n",
        "\n",
        "invalid_order = brute_force(numbers.copy(), 'invalid')\n",
        "print(\"With invalid order:\", invalid_order)\n"
      ]
    },
    {
      "cell_type": "code",
      "source": [],
      "metadata": {
        "id": "J2YPUxE5uMo8"
      },
      "execution_count": null,
      "outputs": []
    }
  ]
}